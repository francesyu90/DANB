{
 "cells": [
  {
   "cell_type": "code",
   "execution_count": 1,
   "metadata": {},
   "outputs": [],
   "source": [
    "import pandas as pd"
   ]
  },
  {
   "cell_type": "code",
   "execution_count": 2,
   "metadata": {},
   "outputs": [],
   "source": [
    "df = pd.read_csv('../data/tmdb-movies.csv')"
   ]
  },
  {
   "cell_type": "code",
   "execution_count": 3,
   "metadata": {},
   "outputs": [],
   "source": [
    "df.drop_duplicates(inplace=True)"
   ]
  },
  {
   "cell_type": "markdown",
   "metadata": {},
   "source": [
    "# Which genres are most popular from year to year? "
   ]
  },
  {
   "cell_type": "code",
   "execution_count": 4,
   "metadata": {},
   "outputs": [],
   "source": [
    "df_popularity_genres = df[['popularity', 'genres']]"
   ]
  },
  {
   "cell_type": "code",
   "execution_count": 5,
   "metadata": {},
   "outputs": [
    {
     "name": "stderr",
     "output_type": "stream",
     "text": [
      "/anaconda3/envs/danb/lib/python3.7/site-packages/ipykernel_launcher.py:1: SettingWithCopyWarning: \n",
      "A value is trying to be set on a copy of a slice from a DataFrame\n",
      "\n",
      "See the caveats in the documentation: http://pandas.pydata.org/pandas-docs/stable/indexing.html#indexing-view-versus-copy\n",
      "  \"\"\"Entry point for launching an IPython kernel.\n"
     ]
    }
   ],
   "source": [
    "df_popularity_genres.drop_duplicates(inplace=True)"
   ]
  },
  {
   "cell_type": "code",
   "execution_count": 6,
   "metadata": {},
   "outputs": [
    {
     "name": "stderr",
     "output_type": "stream",
     "text": [
      "/anaconda3/envs/danb/lib/python3.7/site-packages/ipykernel_launcher.py:1: SettingWithCopyWarning: \n",
      "A value is trying to be set on a copy of a slice from a DataFrame\n",
      "\n",
      "See the caveats in the documentation: http://pandas.pydata.org/pandas-docs/stable/indexing.html#indexing-view-versus-copy\n",
      "  \"\"\"Entry point for launching an IPython kernel.\n"
     ]
    }
   ],
   "source": [
    "df_popularity_genres.dropna(inplace=True)"
   ]
  },
  {
   "cell_type": "code",
   "execution_count": 7,
   "metadata": {},
   "outputs": [],
   "source": [
    "genres = []\n",
    "\n",
    "for index, row in df_popularity_genres.iterrows():\n",
    "    splitted_genres = row.get('genres').split('|')\n",
    "    genres.extend(splitted_genres)\n",
    "\n",
    "target_genres = list(set(genres))"
   ]
  },
  {
   "cell_type": "code",
   "execution_count": 8,
   "metadata": {},
   "outputs": [
    {
     "name": "stderr",
     "output_type": "stream",
     "text": [
      "/anaconda3/envs/danb/lib/python3.7/site-packages/pandas/core/indexing.py:362: SettingWithCopyWarning: \n",
      "A value is trying to be set on a copy of a slice from a DataFrame.\n",
      "Try using .loc[row_indexer,col_indexer] = value instead\n",
      "\n",
      "See the caveats in the documentation: http://pandas.pydata.org/pandas-docs/stable/indexing.html#indexing-view-versus-copy\n",
      "  self.obj[key] = _infer_fill_value(value)\n",
      "/anaconda3/envs/danb/lib/python3.7/site-packages/pandas/core/indexing.py:543: SettingWithCopyWarning: \n",
      "A value is trying to be set on a copy of a slice from a DataFrame.\n",
      "Try using .loc[row_indexer,col_indexer] = value instead\n",
      "\n",
      "See the caveats in the documentation: http://pandas.pydata.org/pandas-docs/stable/indexing.html#indexing-view-versus-copy\n",
      "  self.obj[item] = s\n"
     ]
    }
   ],
   "source": [
    "tmp_df = df_popularity_genres\n",
    "\n",
    "for index, row in df_popularity_genres.iterrows():\n",
    "    \n",
    "    splitted_genres = row.get('genres').split('|')\n",
    "    \n",
    "    size = len(splitted_genres)\n",
    "    \n",
    "    for i in range(size):\n",
    "        tmp_df.at[index, splitted_genres[i]] = True\n",
    "    "
   ]
  },
  {
   "cell_type": "code",
   "execution_count": 9,
   "metadata": {},
   "outputs": [
    {
     "name": "stdout",
     "output_type": "stream",
     "text": [
      "<class 'pandas.core.frame.DataFrame'>\n",
      "Int64Index: 10838 entries, 0 to 10865\n",
      "Data columns (total 22 columns):\n",
      "popularity         10838 non-null float64\n",
      "genres             10838 non-null object\n",
      "Action             2384 non-null object\n",
      "Adventure          1471 non-null object\n",
      "Science Fiction    1229 non-null object\n",
      "Thriller           2907 non-null object\n",
      "Fantasy            916 non-null object\n",
      "Crime              1354 non-null object\n",
      "Western            165 non-null object\n",
      "Drama              4760 non-null object\n",
      "Family             1231 non-null object\n",
      "Animation          699 non-null object\n",
      "Comedy             3790 non-null object\n",
      "Mystery            810 non-null object\n",
      "Romance            1712 non-null object\n",
      "War                270 non-null object\n",
      "History            334 non-null object\n",
      "Music              408 non-null object\n",
      "Horror             1637 non-null object\n",
      "Documentary        519 non-null object\n",
      "TV Movie           167 non-null object\n",
      "Foreign            188 non-null object\n",
      "dtypes: float64(1), object(21)\n",
      "memory usage: 2.2+ MB\n"
     ]
    }
   ],
   "source": [
    "tmp_df.info()"
   ]
  },
  {
   "cell_type": "code",
   "execution_count": 10,
   "metadata": {},
   "outputs": [
    {
     "name": "stderr",
     "output_type": "stream",
     "text": [
      "/anaconda3/envs/danb/lib/python3.7/site-packages/pandas/core/frame.py:3790: SettingWithCopyWarning: \n",
      "A value is trying to be set on a copy of a slice from a DataFrame\n",
      "\n",
      "See the caveats in the documentation: http://pandas.pydata.org/pandas-docs/stable/indexing.html#indexing-view-versus-copy\n",
      "  downcast=downcast, **kwargs)\n"
     ]
    }
   ],
   "source": [
    "tmp_df.fillna(False, inplace=True)"
   ]
  },
  {
   "cell_type": "code",
   "execution_count": 11,
   "metadata": {},
   "outputs": [],
   "source": [
    "for genre in target_genres:\n",
    "    tmp_df[genre].astype(bool)"
   ]
  },
  {
   "cell_type": "code",
   "execution_count": 12,
   "metadata": {},
   "outputs": [
    {
     "data": {
      "text/plain": [
       "array([False,  True])"
      ]
     },
     "execution_count": 12,
     "metadata": {},
     "output_type": "execute_result"
    }
   ],
   "source": [
    "tmp_df['Mystery'].unique()"
   ]
  },
  {
   "cell_type": "code",
   "execution_count": 13,
   "metadata": {},
   "outputs": [],
   "source": [
    "tmp_df = tmp_df.drop(['genres'], axis=1)"
   ]
  },
  {
   "cell_type": "code",
   "execution_count": 14,
   "metadata": {},
   "outputs": [
    {
     "name": "stdout",
     "output_type": "stream",
     "text": [
      "<class 'pandas.core.frame.DataFrame'>\n",
      "Int64Index: 10838 entries, 0 to 10865\n",
      "Data columns (total 21 columns):\n",
      "popularity         10838 non-null float64\n",
      "Action             10838 non-null bool\n",
      "Adventure          10838 non-null bool\n",
      "Science Fiction    10838 non-null bool\n",
      "Thriller           10838 non-null bool\n",
      "Fantasy            10838 non-null bool\n",
      "Crime              10838 non-null bool\n",
      "Western            10838 non-null bool\n",
      "Drama              10838 non-null bool\n",
      "Family             10838 non-null bool\n",
      "Animation          10838 non-null bool\n",
      "Comedy             10838 non-null bool\n",
      "Mystery            10838 non-null bool\n",
      "Romance            10838 non-null bool\n",
      "War                10838 non-null bool\n",
      "History            10838 non-null bool\n",
      "Music              10838 non-null bool\n",
      "Horror             10838 non-null bool\n",
      "Documentary        10838 non-null bool\n",
      "TV Movie           10838 non-null bool\n",
      "Foreign            10838 non-null bool\n",
      "dtypes: bool(20), float64(1)\n",
      "memory usage: 701.0 KB\n"
     ]
    }
   ],
   "source": [
    "tmp_df.info()"
   ]
  },
  {
   "cell_type": "code",
   "execution_count": 15,
   "metadata": {},
   "outputs": [],
   "source": [
    "tmp_df.to_csv('clean_1.csv')"
   ]
  },
  {
   "cell_type": "code",
   "execution_count": null,
   "metadata": {},
   "outputs": [],
   "source": []
  }
 ],
 "metadata": {
  "kernelspec": {
   "display_name": "Python 3",
   "language": "python",
   "name": "python3"
  },
  "language_info": {
   "codemirror_mode": {
    "name": "ipython",
    "version": 3
   },
   "file_extension": ".py",
   "mimetype": "text/x-python",
   "name": "python",
   "nbconvert_exporter": "python",
   "pygments_lexer": "ipython3",
   "version": "3.7.0"
  }
 },
 "nbformat": 4,
 "nbformat_minor": 2
}
